{
 "cells": [
  {
   "cell_type": "code",
   "execution_count": 1,
   "metadata": {},
   "outputs": [],
   "source": [
    "import numpy as np\n",
    "import itertools\n",
    "import matplotlib.pyplot as plt\n",
    "import os\n",
    "\n",
    "import pandas as pd\n",
    "\n",
    "from collections import Counter\n"
   ]
  },
  {
   "cell_type": "code",
   "execution_count": 2,
   "metadata": {},
   "outputs": [],
   "source": [
    "def Img_into_volt(Img, selection_mask, volt_scale = 1):\n",
    "    \n",
    "    Img_sub = np.empty((16, (Img.shape[0]-3)*(Img.shape[1]-3)))\n",
    "    for n in range(Img.shape[0]-3):\n",
    "        for m in range(Img.shape[1]-3):\n",
    "            Img_sub[:,n*10+m] = Img[n:n+4,m:m+4].flatten()*volt_scale\n",
    "\n",
    "    \n",
    "    rows = np.where(selection_mask.sum(axis=1)!=0)[0]\n",
    "    output = np.zeros((32,100))\n",
    "    output[rows,:] = Img_sub\n",
    "        \n",
    "    return output\n"
   ]
  },
  {
   "cell_type": "code",
   "execution_count": 3,
   "metadata": {},
   "outputs": [],
   "source": [
    "def findRowCols(data, rowselectionsize=16, colselectionsize=10, searchingsize=18):\n",
    "    data_sorted = np.sort(data, axis=0)\n",
    "    index_sorted = np.argsort(data, axis=0)\n",
    "\n",
    "    delta = np.empty((1, data_sorted.shape[1]))\n",
    "    for i in np.arange(data_sorted.shape[0] - rowselectionsize + 1):\n",
    "        delta = np.vstack((delta, data_sorted[i + rowselectionsize - 1, :] - data_sorted[i, :]))\n",
    "    delta = np.delete(delta, 0, axis=0)\n",
    "\n",
    "    res = np.empty((rowselectionsize, data.shape[1]))  # res is row combinations of rows index\n",
    "    for col, start in zip(range(data.shape[1]), np.argmin(delta, axis=0)):\n",
    "        res[:, col] = index_sorted[start:start + rowselectionsize, col]\n",
    "\n",
    "    row_cnt = Counter(res.reshape(-1).astype(int))\n",
    "    top_searchingsize_rows = [a for (a, _) in row_cnt.most_common(data.shape[1])[:searchingsize]]\n",
    "\n",
    "    maxdelta = {}\n",
    "    cols = {}\n",
    "    for rows in itertools.combinations(top_searchingsize_rows, rowselectionsize):\n",
    "        top_16_data = data[np.array(rows)]\n",
    "        col_delta = pd.Series(np.ptp(top_16_data, axis=0))\n",
    "        x = col_delta.nsmallest(colselectionsize)\n",
    "        cols[rows] = list(x.index.values)\n",
    "        maxdelta[rows] = x.iloc[-1]\n",
    "\n",
    "    Maxdelta = pd.Series(maxdelta).nsmallest(1).values[0]\n",
    "    Rows = list(list(pd.Series(maxdelta).nsmallest(1).keys())[0])\n",
    "    Columns = cols[tuple(Rows)]\n",
    "    return Maxdelta, np.sort(Rows), np.sort(Columns)\n",
    "\n",
    "\n",
    "def make_selection_mask(data, rowselectionsize = 16, colselectionsize = 10, searchingsize = 21):\n",
    "    d, R, C = findRowCols(data, rowselectionsize = rowselectionsize, colselectionsize = colselectionsize, searchingsize = searchingsize)\n",
    "\n",
    "    selection = np.zeros((32,32))\n",
    "\n",
    "    selection[R[:,np.newaxis],C] = 1\n",
    "\n",
    "    np.savetxt(\"C:\\\\Users\\\\Houk\\\\Dropbox\\\\ISNeuroData\\\\2di_mb_py_probe\\\\selection_mask.csv\", selection,  delimiter=\",\")\n",
    "\n",
    "    \n",
    "    return selection\n"
   ]
  },
  {
   "cell_type": "code",
   "execution_count": 4,
   "metadata": {},
   "outputs": [],
   "source": [
    "def get_target_scale(selection_mask, weights):\n",
    "    def index_gen():\n",
    "        for i in range(32):\n",
    "            for j in range(32):\n",
    "                if selection_mask[i, j] != 0:\n",
    "                    yield (i, j)\n",
    "\n",
    "    target_scale = np.zeros((32, 32))\n",
    "    select_index = index_gen()\n",
    "\n",
    "    for i in range(len(weights)):\n",
    "        for j in range(len(weights[0])):\n",
    "            target_scale[next(select_index)] = weights[i, j]\n",
    "\n",
    "    return target_scale"
   ]
  },
  {
   "cell_type": "code",
   "execution_count": 5,
   "metadata": {},
   "outputs": [
    {
     "data": {
      "text/plain": [
       "array([[ 1.40285626e+02,  1.92356293e+02,  1.91450302e+02, ...,\n",
       "         2.21586439e+02,  2.59495029e+02,  1.87397182e+02],\n",
       "       [ 2.15673652e+02,  2.61402379e+02,  1.76525284e+02, ...,\n",
       "         3.42274039e+02,  5.14698519e+02,  4.28533963e+02],\n",
       "       [ 7.41959326e+01,  1.40905515e+02,  1.77622011e+02, ...,\n",
       "         3.17526166e+02,  3.12996209e+02,  1.34658942e+02],\n",
       "       ...,\n",
       "       [ 2.73323320e+02,  5.41258374e+02,  4.92191784e+02, ...,\n",
       "         7.34472975e+02,  6.91939060e+02,  4.70352621e+02],\n",
       "       [ 2.99644756e+02,  8.87013328e+02,  5.69677896e+02, ...,\n",
       "         7.79152660e+02,  1.07984646e+03,  5.09167203e+02],\n",
       "       [-1.04904275e+00,  4.57478006e+02,  3.62110483e+02, ...,\n",
       "         5.78499392e+02,  6.60467778e+02,  5.41449110e+02]])"
      ]
     },
     "execution_count": 5,
     "metadata": {},
     "output_type": "execute_result"
    }
   ],
   "source": [
    "data = np.genfromtxt(\"Imager Mnist/initial_data.csv\", delimiter=\",\")\n",
    "data"
   ]
  },
  {
   "cell_type": "code",
   "execution_count": 6,
   "metadata": {},
   "outputs": [
    {
     "ename": "PermissionError",
     "evalue": "[Errno 13] Permission denied: 'C:\\\\Users\\\\Houk\\\\Dropbox\\\\ISNeuroData\\\\2di_mb_py_probe\\\\selection_mask.csv'",
     "output_type": "error",
     "traceback": [
      "\u001b[1;31m---------------------------------------------------------------------------\u001b[0m",
      "\u001b[1;31mPermissionError\u001b[0m                           Traceback (most recent call last)",
      "\u001b[1;32m<ipython-input-6-554aae3a4dc9>\u001b[0m in \u001b[0;36m<module>\u001b[1;34m\u001b[0m\n\u001b[1;32m----> 1\u001b[1;33m \u001b[0mselection_mask\u001b[0m \u001b[1;33m=\u001b[0m \u001b[0mmake_selection_mask\u001b[0m\u001b[1;33m(\u001b[0m\u001b[0mdata\u001b[0m\u001b[1;33m,\u001b[0m \u001b[0mrowselectionsize\u001b[0m \u001b[1;33m=\u001b[0m \u001b[1;36m16\u001b[0m\u001b[1;33m,\u001b[0m \u001b[0mcolselectionsize\u001b[0m \u001b[1;33m=\u001b[0m \u001b[1;36m10\u001b[0m\u001b[1;33m,\u001b[0m \u001b[0msearchingsize\u001b[0m \u001b[1;33m=\u001b[0m \u001b[1;36m21\u001b[0m\u001b[1;33m)\u001b[0m\u001b[1;33m\u001b[0m\u001b[1;33m\u001b[0m\u001b[0m\n\u001b[0m",
      "\u001b[1;32m<ipython-input-3-0eabcf2cd227>\u001b[0m in \u001b[0;36mmake_selection_mask\u001b[1;34m(data, rowselectionsize, colselectionsize, searchingsize)\u001b[0m\n\u001b[0;32m     37\u001b[0m     \u001b[0mselection\u001b[0m\u001b[1;33m[\u001b[0m\u001b[0mR\u001b[0m\u001b[1;33m[\u001b[0m\u001b[1;33m:\u001b[0m\u001b[1;33m,\u001b[0m\u001b[0mnp\u001b[0m\u001b[1;33m.\u001b[0m\u001b[0mnewaxis\u001b[0m\u001b[1;33m]\u001b[0m\u001b[1;33m,\u001b[0m\u001b[0mC\u001b[0m\u001b[1;33m]\u001b[0m \u001b[1;33m=\u001b[0m \u001b[1;36m1\u001b[0m\u001b[1;33m\u001b[0m\u001b[1;33m\u001b[0m\u001b[0m\n\u001b[0;32m     38\u001b[0m \u001b[1;33m\u001b[0m\u001b[0m\n\u001b[1;32m---> 39\u001b[1;33m     \u001b[0mnp\u001b[0m\u001b[1;33m.\u001b[0m\u001b[0msavetxt\u001b[0m\u001b[1;33m(\u001b[0m\u001b[1;34m\"C:\\\\Users\\\\Houk\\\\Dropbox\\\\ISNeuroData\\\\2di_mb_py_probe\\\\selection_mask.csv\"\u001b[0m\u001b[1;33m,\u001b[0m \u001b[0mselection\u001b[0m\u001b[1;33m,\u001b[0m  \u001b[0mdelimiter\u001b[0m\u001b[1;33m=\u001b[0m\u001b[1;34m\",\"\u001b[0m\u001b[1;33m)\u001b[0m\u001b[1;33m\u001b[0m\u001b[1;33m\u001b[0m\u001b[0m\n\u001b[0m\u001b[0;32m     40\u001b[0m \u001b[1;33m\u001b[0m\u001b[0m\n\u001b[0;32m     41\u001b[0m \u001b[1;33m\u001b[0m\u001b[0m\n",
      "\u001b[1;32mC:\\ProgramData\\Anaconda3\\lib\\site-packages\\numpy\\lib\\npyio.py\u001b[0m in \u001b[0;36msavetxt\u001b[1;34m(fname, X, fmt, delimiter, newline, header, footer, comments, encoding)\u001b[0m\n\u001b[0;32m   1350\u001b[0m     \u001b[1;32mif\u001b[0m \u001b[0m_is_string_like\u001b[0m\u001b[1;33m(\u001b[0m\u001b[0mfname\u001b[0m\u001b[1;33m)\u001b[0m\u001b[1;33m:\u001b[0m\u001b[1;33m\u001b[0m\u001b[1;33m\u001b[0m\u001b[0m\n\u001b[0;32m   1351\u001b[0m         \u001b[1;31m# datasource doesn't support creating a new file ...\u001b[0m\u001b[1;33m\u001b[0m\u001b[1;33m\u001b[0m\u001b[1;33m\u001b[0m\u001b[0m\n\u001b[1;32m-> 1352\u001b[1;33m         \u001b[0mopen\u001b[0m\u001b[1;33m(\u001b[0m\u001b[0mfname\u001b[0m\u001b[1;33m,\u001b[0m \u001b[1;34m'wt'\u001b[0m\u001b[1;33m)\u001b[0m\u001b[1;33m.\u001b[0m\u001b[0mclose\u001b[0m\u001b[1;33m(\u001b[0m\u001b[1;33m)\u001b[0m\u001b[1;33m\u001b[0m\u001b[1;33m\u001b[0m\u001b[0m\n\u001b[0m\u001b[0;32m   1353\u001b[0m         \u001b[0mfh\u001b[0m \u001b[1;33m=\u001b[0m \u001b[0mnp\u001b[0m\u001b[1;33m.\u001b[0m\u001b[0mlib\u001b[0m\u001b[1;33m.\u001b[0m\u001b[0m_datasource\u001b[0m\u001b[1;33m.\u001b[0m\u001b[0mopen\u001b[0m\u001b[1;33m(\u001b[0m\u001b[0mfname\u001b[0m\u001b[1;33m,\u001b[0m \u001b[1;34m'wt'\u001b[0m\u001b[1;33m,\u001b[0m \u001b[0mencoding\u001b[0m\u001b[1;33m=\u001b[0m\u001b[0mencoding\u001b[0m\u001b[1;33m)\u001b[0m\u001b[1;33m\u001b[0m\u001b[1;33m\u001b[0m\u001b[0m\n\u001b[0;32m   1354\u001b[0m         \u001b[0mown_fh\u001b[0m \u001b[1;33m=\u001b[0m \u001b[1;32mTrue\u001b[0m\u001b[1;33m\u001b[0m\u001b[1;33m\u001b[0m\u001b[0m\n",
      "\u001b[1;31mPermissionError\u001b[0m: [Errno 13] Permission denied: 'C:\\\\Users\\\\Houk\\\\Dropbox\\\\ISNeuroData\\\\2di_mb_py_probe\\\\selection_mask.csv'"
     ]
    }
   ],
   "source": [
    "selection_mask = make_selection_mask(data, rowselectionsize = 16, colselectionsize = 10, searchingsize = 21)"
   ]
  },
  {
   "cell_type": "code",
   "execution_count": null,
   "metadata": {},
   "outputs": [],
   "source": [
    "plt.imshow(selection_mask)"
   ]
  },
  {
   "cell_type": "code",
   "execution_count": null,
   "metadata": {},
   "outputs": [],
   "source": [
    "Img = np.genfromtxt(\"Imager Mnist/0.csv\", delimiter=\",\")\n",
    "\n",
    "image_encoded = Img_into_volt(Img, selection_mask, volt_scale = 0.3 )\n",
    "image_encoded\n",
    "np.savetxt(\"C:\\\\Users\\\\Houk\\\\Dropbox\\\\ISNeuroData\\\\2di_mb_py_probe\\\\image_encoded.csv\", image_encoded,  delimiter=\",\")"
   ]
  },
  {
   "cell_type": "code",
   "execution_count": 37,
   "metadata": {},
   "outputs": [
    {
     "data": {
      "text/plain": [
       "0.005"
      ]
     },
     "execution_count": 37,
     "metadata": {},
     "output_type": "execute_result"
    }
   ],
   "source": [
    "image_encoded.min()"
   ]
  },
  {
   "cell_type": "code",
   "execution_count": null,
   "metadata": {},
   "outputs": [],
   "source": []
  }
 ],
 "metadata": {
  "kernelspec": {
   "display_name": "Python 3",
   "language": "python",
   "name": "python3"
  },
  "language_info": {
   "codemirror_mode": {
    "name": "ipython",
    "version": 3
   },
   "file_extension": ".py",
   "mimetype": "text/x-python",
   "name": "python",
   "nbconvert_exporter": "python",
   "pygments_lexer": "ipython3",
   "version": "3.7.1"
  }
 },
 "nbformat": 4,
 "nbformat_minor": 2
}
